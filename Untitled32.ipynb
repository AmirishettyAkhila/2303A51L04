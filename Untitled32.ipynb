{
  "nbformat": 4,
  "nbformat_minor": 0,
  "metadata": {
    "colab": {
      "provenance": [],
      "authorship_tag": "ABX9TyPOGwBU8jLvFY+O7RuIItQh",
      "include_colab_link": true
    },
    "kernelspec": {
      "name": "python3",
      "display_name": "Python 3"
    },
    "language_info": {
      "name": "python"
    }
  },
  "cells": [
    {
      "cell_type": "markdown",
      "metadata": {
        "id": "view-in-github",
        "colab_type": "text"
      },
      "source": [
        "<a href=\"https://colab.research.google.com/github/AmirishettyAkhila/2303A51L04/blob/main/Untitled32.ipynb\" target=\"_parent\"><img src=\"https://colab.research.google.com/assets/colab-badge.svg\" alt=\"Open In Colab\"/></a>"
      ]
    },
    {
      "cell_type": "code",
      "source": [
        "import nltk\n",
        "from nltk.tokenize import word_tokenize, sent_tokenize\n",
        "from nltk.stem import PorterStemmer\n",
        "from sklearn.feature_extraction.text import CountVectorizer, TfidfVectorizer\n",
        "\n",
        "# Ensure required NLTK data is downloaded\n",
        "nltk.download('punkt')\n",
        "\n",
        "# Initialize stemmer\n",
        "stemmer = PorterStemmer()\n",
        "\n",
        "def tokenize_text(text):\n",
        "    \"\"\" Tokenize text into words and sentences \"\"\"\n",
        "    words = word_tokenize(text)\n",
        "    sentences = sent_tokenize(text)\n",
        "    return words, sentences\n",
        "\n",
        "def stem_words(words):\n",
        "    \"\"\" Stem a list of words \"\"\"\n",
        "    return [stemmer.stem(word) for word in words]\n",
        "\n",
        "def represent_words(texts):\n",
        "    \"\"\" Represent words using Count Vectorizer and TF-IDF Vectorizer \"\"\"\n",
        "    count_vectorizer = CountVectorizer()\n",
        "    tfidf_vectorizer = TfidfVectorizer()\n",
        "\n",
        "    count_matrix = count_vectorizer.fit_transform(texts)\n",
        "    tfidf_matrix = tfidf_vectorizer.fit_transform(texts)\n",
        "\n",
        "    return count_vectorizer.get_feature_names_out(), count_matrix.toarray(), tfidf_vectorizer.get_feature_names_out(), tfidf_matrix.toarray()\n",
        "\n",
        "def represent_sentences(texts):\n",
        "    \"\"\" Represent sentences using Count Vectorizer and TF-IDF Vectorizer \"\"\"\n",
        "    count_vectorizer = CountVectorizer()\n",
        "    tfidf_vectorizer = TfidfVectorizer()\n",
        "\n",
        "    count_matrix = count_vectorizer.fit_transform(texts)\n",
        "    tfidf_matrix = tfidf_vectorizer.fit_transform(texts)\n",
        "\n",
        "    return count_vectorizer.get_feature_names_out(), count_matrix.toarray(), tfidf_vectorizer.get_feature_names_out(), tfidf_matrix.toarray()\n",
        "\n",
        "def main():\n",
        "    # Example text for tokenization\n",
        "    text = \"Hello there! How are you doing today? NLP is fascinating.\"\n",
        "\n",
        "    # Tokenization\n",
        "    words, sentences = tokenize_text(text)\n",
        "    print(\"Words:\", words)\n",
        "    print(\"Sentences:\", sentences)\n",
        "\n",
        "    # Example words for stemming\n",
        "    words_to_stem = [\"running\", \"ran\", \"runs\", \"easily\", \"fairly\"]\n",
        "\n",
        "    # Stemming\n",
        "    stemmed_words = stem_words(words_to_stem)\n",
        "    print(\"\\nOriginal Words:\", words_to_stem)\n",
        "    print(\"Stemmed Words:\", stemmed_words)\n",
        "\n",
        "    # Example texts for representation\n",
        "    texts_for_representation = [\n",
        "        \"NLP is fun and interesting.\",\n",
        "        \"NLP involves linguistics and computer science.\"\n",
        "    ]\n",
        "\n",
        "    # Word representation\n",
        "    word_features, count_matrix, tfidf_features, tfidf_matrix = represent_words(texts_for_representation)\n",
        "    print(\"\\nWord Representation:\")\n",
        "    print(\"Count Vectorizer Features:\", word_features)\n",
        "    print(\"Count Matrix:\\n\", count_matrix)\n",
        "    print(\"TF-IDF Vectorizer Features:\", tfidf_features)\n",
        "    print(\"TF-IDF Matrix:\\n\", tfidf_matrix)\n",
        "\n",
        "    # Sentence representation\n",
        "    sentence_features, count_matrix, tfidf_features, tfidf_matrix = represent_sentences(texts_for_representation)\n",
        "    print(\"\\nSentence Representation:\")\n",
        "    print(\"Count Vectorizer Features:\", sentence_features)\n",
        "    print(\"Count Matrix:\\n\", count_matrix)\n",
        "    print(\"TF-IDF Vectorizer Features:\", tfidf_features)\n",
        "    print(\"TF-IDF Matrix:\\n\", tfidf_matrix)\n",
        "\n",
        "if __name__ == \"__main__\":\n",
        "    main()\n"
      ],
      "metadata": {
        "colab": {
          "base_uri": "https://localhost:8080/"
        },
        "id": "j1ceAcGD6REJ",
        "outputId": "47a3723c-b736-4063-d83c-8686cc6c050e"
      },
      "execution_count": null,
      "outputs": [
        {
          "output_type": "stream",
          "name": "stdout",
          "text": [
            "Words: ['Hello', 'there', '!', 'How', 'are', 'you', 'doing', 'today', '?', 'NLP', 'is', 'fascinating', '.']\n",
            "Sentences: ['Hello there!', 'How are you doing today?', 'NLP is fascinating.']\n",
            "\n",
            "Original Words: ['running', 'ran', 'runs', 'easily', 'fairly']\n",
            "Stemmed Words: ['run', 'ran', 'run', 'easili', 'fairli']\n",
            "\n",
            "Word Representation:\n",
            "Count Vectorizer Features: ['and' 'computer' 'fun' 'interesting' 'involves' 'is' 'linguistics' 'nlp'\n",
            " 'science']\n",
            "Count Matrix:\n",
            " [[1 0 1 1 0 1 0 1 0]\n",
            " [1 1 0 0 1 0 1 1 1]]\n",
            "TF-IDF Vectorizer Features: ['and' 'computer' 'fun' 'interesting' 'involves' 'is' 'linguistics' 'nlp'\n",
            " 'science']\n",
            "TF-IDF Matrix:\n",
            " [[0.35520009 0.         0.49922133 0.49922133 0.         0.49922133\n",
            "  0.         0.35520009 0.        ]\n",
            " [0.31779954 0.44665616 0.         0.         0.44665616 0.\n",
            "  0.44665616 0.31779954 0.44665616]]\n",
            "\n",
            "Sentence Representation:\n",
            "Count Vectorizer Features: ['and' 'computer' 'fun' 'interesting' 'involves' 'is' 'linguistics' 'nlp'\n",
            " 'science']\n",
            "Count Matrix:\n",
            " [[1 0 1 1 0 1 0 1 0]\n",
            " [1 1 0 0 1 0 1 1 1]]\n",
            "TF-IDF Vectorizer Features: ['and' 'computer' 'fun' 'interesting' 'involves' 'is' 'linguistics' 'nlp'\n",
            " 'science']\n",
            "TF-IDF Matrix:\n",
            " [[0.35520009 0.         0.49922133 0.49922133 0.         0.49922133\n",
            "  0.         0.35520009 0.        ]\n",
            " [0.31779954 0.44665616 0.         0.         0.44665616 0.\n",
            "  0.44665616 0.31779954 0.44665616]]\n"
          ]
        },
        {
          "output_type": "stream",
          "name": "stderr",
          "text": [
            "[nltk_data] Downloading package punkt to /root/nltk_data...\n",
            "[nltk_data]   Package punkt is already up-to-date!\n"
          ]
        }
      ]
    }
  ]
}